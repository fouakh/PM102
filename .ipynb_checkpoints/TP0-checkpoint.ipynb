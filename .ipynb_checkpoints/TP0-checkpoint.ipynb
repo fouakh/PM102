{
 "cells": [
  {
   "cell_type": "markdown",
   "id": "b5a59212",
   "metadata": {},
   "source": [
    "# Rappels de Python pour le calcul scientifique"
   ]
  },
  {
   "cell_type": "markdown",
   "id": "d731d4b2",
   "metadata": {},
   "source": [
    "Préliminaires : importer les bibliothèques pertinentes, notamment NumPy."
   ]
  },
  {
   "cell_type": "code",
   "execution_count": 170,
   "id": "43d21279",
   "metadata": {},
   "outputs": [],
   "source": [
    "import sys                       # Importation d'un module.\n",
    "import numpy as np               # Importation avec un nom raccourci.\n",
    "from numpy import array, newaxis # Importation ciblée de fonctions ou variables spécifiques."
   ]
  },
  {
   "cell_type": "markdown",
   "id": "36858464",
   "metadata": {
    "collapsed": true
   },
   "source": [
    "## Manipulations de base d'objets simples\n",
    "\n",
    "Python comporte des types de base : nombres, texte (chaînes de caractères), listes et apparentés. Le typage est automatique."
   ]
  },
  {
   "cell_type": "code",
   "execution_count": 171,
   "id": "14b49208",
   "metadata": {},
   "outputs": [
    {
     "data": {
      "text/plain": [
       "(int, int, float, complex)"
      ]
     },
     "execution_count": 171,
     "metadata": {},
     "output_type": "execute_result"
    }
   ],
   "source": [
    "x = 1\n",
    "y = 2\n",
    "xy = x / y    # Nombre à virgule flottante bien que x et y soient entiers.\n",
    "z = -1 + 0.5j # Nombre complexe.\n",
    "type(x), type(y), type(xy), type(z)"
   ]
  },
  {
   "cell_type": "markdown",
   "id": "4c5772d9",
   "metadata": {},
   "source": [
    "Les chaînes de caractères peuvent être notées avec les guillemets simples ou doubles. On peut les concaténer avec l'opérateur + ; mais il est généralement plus pratique d'utiliser la fonction de formatage d'autres objets à l'intérieur d'un texte."
   ]
  },
  {
   "cell_type": "code",
   "execution_count": 172,
   "id": "aef561c2",
   "metadata": {},
   "outputs": [
    {
     "name": "stdout",
     "output_type": "stream",
     "text": [
      "Ceci est du texte. Ceci aussi, et inclut l'apostrophe.\n",
      "Ce texte indique \"Ceci est du texte.\", ainsi que la valeur de y=2 ou même de x + z ** 2=(1.75-1j).\n"
     ]
    }
   ],
   "source": [
    "s1 = 'Ceci est du texte.'\n",
    "s2 = \"Ceci aussi, et inclut l'apostrophe.\"\n",
    "s3 = s1 + \" \" + s2 # Concaténation.\n",
    "print(s3)\n",
    "s4 = f'Ce texte indique \"{s1}\", ainsi que la valeur de {y=} ou même de {x + z ** 2=}.'\n",
    "print(s4)"
   ]
  },
  {
   "cell_type": "markdown",
   "id": "eb1babb4",
   "metadata": {},
   "source": [
    "Les listes et assimilées sont indexées par des crochets, en partant de l'indice 0 (depuis le début) ou -1 (depuis la fin). Leur contenu est libre (elles peuvent notamment contenir des objets de types différents). On les crée avec des crochets pour les listes, des parenthèses pour les tuples (comme des listes mais non modifiables)."
   ]
  },
  {
   "cell_type": "code",
   "execution_count": 173,
   "id": "956572fe",
   "metadata": {},
   "outputs": [
    {
     "name": "stdout",
     "output_type": "stream",
     "text": [
      "type(liste1)=<class 'list'>\n",
      "liste1[0]=1\n",
      "liste1[-1]='toto'\n",
      "liste1=[1, 2, -1, 'toto']\n"
     ]
    }
   ],
   "source": [
    "liste1 = [1, 2, 42, 'toto']\n",
    "print(f'{type(liste1)=}')       # list\n",
    "print(f'{liste1[0]=}')          # 1\n",
    "print(f'{liste1[-1]=}')         # 'toto'\n",
    "liste1[2] = -1                  # Maintenant le 3e élément (à l'indice 2) vaut -1.\n",
    "print(f'{liste1=}')             # [1, 2, -1, 'toto']"
   ]
  },
  {
   "cell_type": "markdown",
   "id": "008e2c06",
   "metadata": {},
   "source": [
    "On a aussi les tuples, plus efficaces mais qui ne peuvent pas être modifiés. On en a rencontré un implicitement ci-dessus quand on a affiché les 4 types séparés par des virgules. On les crée avec des parenthèses (optionnelles sauf ambigüité)."
   ]
  },
  {
   "cell_type": "code",
   "execution_count": 174,
   "id": "1b5cdca8",
   "metadata": {},
   "outputs": [
    {
     "data": {
      "text/plain": [
       "5"
      ]
     },
     "execution_count": 174,
     "metadata": {},
     "output_type": "execute_result"
    }
   ],
   "source": [
    "tuple1 = (4, 5, 7)\n",
    "tuple1[1]                        # Interdit de le modifier !"
   ]
  },
  {
   "cell_type": "markdown",
   "id": "7c507796",
   "metadata": {},
   "source": [
    "L'indexation peut se faire sur plusieurs éléments à la fois («slicing») en spécifiant l'indice du premier élément qu'on souhaite extraire, celui avant lequel on s'arrête, et optionnellement le pas."
   ]
  },
  {
   "cell_type": "code",
   "execution_count": 175,
   "id": "05cf497b",
   "metadata": {},
   "outputs": [
    {
     "name": "stdout",
     "output_type": "stream",
     "text": [
      "['a', 'b', 'c']\n",
      "['a', 'c']\n",
      "['', 'a', 'b']\n"
     ]
    }
   ],
   "source": [
    "liste2 = [\"\", \"a\", \"b\", \"c\", \"d\", \"e\"]\n",
    "print(liste2[1:4])   # 'a', 'b', 'c'\n",
    "print(liste2[1:4:2]) # 'a', 'c'\n",
    "print(liste2[:3])    # '', 'a', 'b'"
   ]
  },
  {
   "cell_type": "markdown",
   "id": "b6ebae59",
   "metadata": {},
   "source": [
    "On notera que les chaînes de caractères aussi peuvent être indexées. Tous ces types sont appelés des *itérables*.\n",
    "\n",
    "### Exercice\n",
    "Extraire le contenu des accolades dans la chaîne : '{contenu}'."
   ]
  },
  {
   "cell_type": "code",
   "execution_count": null,
   "id": "88236c12",
   "metadata": {},
   "outputs": [],
   "source": []
  },
  {
   "cell_type": "markdown",
   "id": "afe910e0",
   "metadata": {},
   "source": [
    "Enfin, on peut définir des fonctions ou exécuter des boucles en indentant des blocs de code, c'est à dire en les faisant précéder d'espaces :"
   ]
  },
  {
   "cell_type": "code",
   "execution_count": 176,
   "id": "2bf6cc0a",
   "metadata": {},
   "outputs": [
    {
     "name": "stdout",
     "output_type": "stream",
     "text": [
      "2.0\n",
      "0.5\n",
      "1.0\n",
      "1.5\n",
      "\n",
      "\n",
      "0.0\n",
      "0.5\n",
      "1.0\n",
      "1.5\n"
     ]
    }
   ],
   "source": [
    "def moitie_de(x):\n",
    "    y = x / 2\n",
    "    return y\n",
    "\n",
    "print(moitie_de(4)) # 2.\n",
    "\n",
    "for k in (1, 2, 3):\n",
    "    print(moitie_de(k))\n",
    "\n",
    "print(\"\\n\") # Saut de ligne.\n",
    "for k in range(4): # Fait office de (0 ... 3), car on s'arrête avant le dernier indice.\n",
    "    print(moitie_de(k))"
   ]
  },
  {
   "cell_type": "markdown",
   "id": "c16fa7d5",
   "metadata": {},
   "source": [
    "## Manipulation de tableaux\n",
    "\n",
    "La plupart des opérations de calcul doivent se faire sur des valeurs multiples. NumPy fournit des objets tableaux pour le calcul vectoriel ou matriciel. Il est plus efficace de les utiliser que d'écrire les boucles explicitement. On les initialise avec des listes ou avec diverses fonctions."
   ]
  },
  {
   "cell_type": "code",
   "execution_count": 177,
   "id": "ad3b72ee",
   "metadata": {},
   "outputs": [
    {
     "data": {
      "text/plain": [
       "array([10, 11, 12, 13])"
      ]
     },
     "execution_count": 177,
     "metadata": {},
     "output_type": "execute_result"
    }
   ],
   "source": [
    "array(range(10, 14)) # Rappelez-vous, on a importé array de numpy."
   ]
  },
  {
   "cell_type": "code",
   "execution_count": 178,
   "id": "ee050344",
   "metadata": {},
   "outputs": [
    {
     "data": {
      "text/plain": [
       "array([42. , 42.2, 42.4, 42.6, 42.8, 43. ])"
      ]
     },
     "execution_count": 178,
     "metadata": {},
     "output_type": "execute_result"
    }
   ],
   "source": [
    "np.linspace(42, 43, 6) # Rappelez-vous, on a importé numpy sous le nom np."
   ]
  },
  {
   "cell_type": "code",
   "execution_count": 179,
   "id": "68a33000",
   "metadata": {},
   "outputs": [
    {
     "data": {
      "text/plain": [
       "array([[0., 0., 0., 0., 0., 0.],\n",
       "       [0., 0., 0., 0., 0., 0.],\n",
       "       [0., 0., 0., 0., 0., 0.]])"
      ]
     },
     "execution_count": 179,
     "metadata": {},
     "output_type": "execute_result"
    }
   ],
   "source": [
    "np.zeros((3, 6)) # Les dimensions sont données par un tuple."
   ]
  },
  {
   "cell_type": "code",
   "execution_count": 180,
   "id": "9801bae6",
   "metadata": {},
   "outputs": [
    {
     "data": {
      "text/plain": [
       "array([[1., 0., 0., 0.],\n",
       "       [0., 1., 0., 0.],\n",
       "       [0., 0., 1., 0.],\n",
       "       [0., 0., 0., 1.]])"
      ]
     },
     "execution_count": 180,
     "metadata": {},
     "output_type": "execute_result"
    }
   ],
   "source": [
    "id4 = np.identity(4)\n",
    "id4"
   ]
  },
  {
   "cell_type": "markdown",
   "id": "e6e3aaa4",
   "metadata": {},
   "source": [
    "---\n",
    "Les tableaux sont indexables au même titre que d'autres itérables, mais ils supportent plusieurs axes."
   ]
  },
  {
   "cell_type": "code",
   "execution_count": 181,
   "id": "c1d8cc1c",
   "metadata": {},
   "outputs": [
    {
     "data": {
      "text/plain": [
       "(1.0, 0.0)"
      ]
     },
     "execution_count": 181,
     "metadata": {},
     "output_type": "execute_result"
    }
   ],
   "source": [
    "id4[0,0], id4[0,2] # 1, 0"
   ]
  },
  {
   "cell_type": "code",
   "execution_count": 182,
   "id": "50ccb78f",
   "metadata": {},
   "outputs": [
    {
     "data": {
      "text/plain": [
       "array([[0., 0., 0.],\n",
       "       [1., 0., 0.]])"
      ]
     },
     "execution_count": 182,
     "metadata": {},
     "output_type": "execute_result"
    }
   ],
   "source": [
    "id4[0:2, 1:] # Lignes 0 et 1, colonnes 1, 2, ..."
   ]
  },
  {
   "cell_type": "markdown",
   "id": "fb9e3195",
   "metadata": {},
   "source": [
    "On peut aussi masquer certains éléments en indexant par une expression booléenne (vraie/fausse)."
   ]
  },
  {
   "cell_type": "code",
   "execution_count": 183,
   "id": "dc6e3084",
   "metadata": {},
   "outputs": [
    {
     "name": "stdout",
     "output_type": "stream",
     "text": [
      "[-0.9854231   0.50557843  1.06020619 -0.5524703   0.79326538  0.97500221\n",
      "  0.53913384 -0.92229957  2.38188957  0.46099527 -0.70109784  1.25782316\n",
      "  0.39051079  0.78276894  0.14552068  0.52131882  0.88033247  2.54551459\n",
      "  1.35488225  0.55615341]\n",
      "[-0.9854231   0.50557843  1.         -0.5524703   0.79326538  0.97500221\n",
      "  0.53913384 -0.92229957  1.          0.46099527 -0.70109784  1.\n",
      "  0.39051079  0.78276894  0.14552068  0.52131882  0.88033247  1.\n",
      "  1.          0.55615341]\n"
     ]
    }
   ],
   "source": [
    "r = np.random.normal(size = (20,)) # 20 échantillons de bruit gaussien.\n",
    "print(r)\n",
    "r[r > 1] = 1                       # On plafonne à 1.\n",
    "print(r)"
   ]
  },
  {
   "cell_type": "markdown",
   "id": "ebe41972",
   "metadata": {},
   "source": [
    "### Exercice\n",
    "Sans utiliser de boucles ```for / while ```:\n",
    "créer une matrice $M \\in \\mathbb{R}^{5\\times6}$ aléatoire à coefficients uniformes dans $[-1, 1]$, puis remplacer une colonne sur deux par sa valeur moins le double de la colonne suivante. Remplacer enfin les valeurs négatives par 0 en utilisant un masque."
   ]
  },
  {
   "cell_type": "code",
   "execution_count": null,
   "id": "6df17b0c",
   "metadata": {},
   "outputs": [],
   "source": []
  },
  {
   "cell_type": "markdown",
   "id": "bc9df78f",
   "metadata": {},
   "source": [
    "L'indexation permet aussi de répliquer un tableau sur plusieurs dimensions avec la constante ```numpy.newaxis```. Les dimensions de longueur 1 se répliquent automatiquement pour être compatibles avec des tableaux plus grands. (Chercher les règles exactes dans la documentation de NumPy, concept de «broadcast».)"
   ]
  },
  {
   "cell_type": "code",
   "execution_count": 184,
   "id": "aa0c4bfb",
   "metadata": {},
   "outputs": [
    {
     "name": "stdout",
     "output_type": "stream",
     "text": [
      "Dimensions : (4,)\n",
      "Tableau :\n",
      "[0 1 2 3]\n",
      "\n",
      "Dimensions : (4, 1)\n",
      "Tableau :\n",
      "[[0]\n",
      " [1]\n",
      " [2]\n",
      " [3]]\n",
      "\n",
      "Dimensions : (1, 4)\n",
      "Tableau :\n",
      "[[0 1 2 3]]\n",
      "\n",
      "Dimensions : (4, 4)\n",
      "Tableau :\n",
      "[[0 1 2 3]\n",
      " [1 2 3 4]\n",
      " [2 3 4 5]\n",
      " [3 4 5 6]]\n",
      "\n"
     ]
    }
   ],
   "source": [
    "valeurs03 = array(range(4))\n",
    "for a in (valeurs03,\n",
    "          valeurs03[:, newaxis],\n",
    "          valeurs03[newaxis, :],\n",
    "          valeurs03[newaxis, :] + valeurs03[:, newaxis]):\n",
    "    print(f'Dimensions : {a.shape}\\nTableau :\\n{a}\\n')\n"
   ]
  },
  {
   "cell_type": "markdown",
   "id": "af2369e4",
   "metadata": {},
   "source": [
    "Les opérations usuelles ```+```, ```*``` opèrent élément par élément, mais on dispose aussi du produit scalaire ou matriciel (selon les dimensions des tableaux) via la méthode ```dot()``` :"
   ]
  },
  {
   "cell_type": "code",
   "execution_count": 185,
   "id": "cc64ff7e",
   "metadata": {},
   "outputs": [],
   "source": [
    "M = array([[1, 2], [3, 4]])\n",
    "vecX10 = array([10, 0])\n",
    "vecX10_ligne = vecX10[newaxis, :]\n",
    "vecX10_colonne = vecX10[:, newaxis]\n",
    "vecY20 = array([0, 20])\n",
    "vecY20_ligne = vecY20[newaxis, :]\n",
    "vecY20_colonne = vecY20[:, newaxis]"
   ]
  },
  {
   "cell_type": "code",
   "execution_count": 186,
   "id": "9216967c",
   "metadata": {},
   "outputs": [
    {
     "data": {
      "text/plain": [
       "array([0, 0])"
      ]
     },
     "execution_count": 186,
     "metadata": {},
     "output_type": "execute_result"
    }
   ],
   "source": [
    "vecX10 * vecY20"
   ]
  },
  {
   "cell_type": "code",
   "execution_count": 187,
   "id": "d0255520",
   "metadata": {},
   "outputs": [
    {
     "data": {
      "text/plain": [
       "0"
      ]
     },
     "execution_count": 187,
     "metadata": {},
     "output_type": "execute_result"
    }
   ],
   "source": [
    "vecX10.dot(vecY20)"
   ]
  },
  {
   "cell_type": "code",
   "execution_count": 188,
   "id": "0d1b5504",
   "metadata": {},
   "outputs": [
    {
     "data": {
      "text/plain": [
       "array([[0]])"
      ]
     },
     "execution_count": 188,
     "metadata": {},
     "output_type": "execute_result"
    }
   ],
   "source": [
    "vecX10_ligne.dot(vecY20_colonne)"
   ]
  },
  {
   "cell_type": "code",
   "execution_count": 189,
   "id": "2c513410",
   "metadata": {},
   "outputs": [
    {
     "data": {
      "text/plain": [
       "array([[  0, 200],\n",
       "       [  0,   0]])"
      ]
     },
     "execution_count": 189,
     "metadata": {},
     "output_type": "execute_result"
    }
   ],
   "source": [
    "vecX10_colonne.dot(vecY20_ligne)"
   ]
  },
  {
   "cell_type": "code",
   "execution_count": 190,
   "id": "c38c35ce",
   "metadata": {},
   "outputs": [
    {
     "data": {
      "text/plain": [
       "array([10, 30])"
      ]
     },
     "execution_count": 190,
     "metadata": {},
     "output_type": "execute_result"
    }
   ],
   "source": [
    "M.dot(vecX10)"
   ]
  },
  {
   "cell_type": "code",
   "execution_count": 191,
   "id": "2ce7b599",
   "metadata": {},
   "outputs": [
    {
     "data": {
      "text/plain": [
       "array([[10],\n",
       "       [30]])"
      ]
     },
     "execution_count": 191,
     "metadata": {},
     "output_type": "execute_result"
    }
   ],
   "source": [
    "M.dot(vecX10_colonne)"
   ]
  },
  {
   "cell_type": "code",
   "execution_count": 192,
   "id": "4f03e407",
   "metadata": {},
   "outputs": [
    {
     "data": {
      "text/plain": [
       "array([[10, 20]])"
      ]
     },
     "execution_count": 192,
     "metadata": {},
     "output_type": "execute_result"
    }
   ],
   "source": [
    "vecX10_ligne.dot(M)"
   ]
  },
  {
   "cell_type": "markdown",
   "id": "6e152542",
   "metadata": {},
   "source": [
    "Le début de l'exercice ci-dessus (prendre une matrice 5×6 et soustraire à une colonne sur deux le double de la colonne suivante) aurait pu être résolu par une multiplication de matrices au lieu d'une manipulation de colonnes :"
   ]
  },
  {
   "cell_type": "code",
   "execution_count": 193,
   "id": "befba5a1",
   "metadata": {},
   "outputs": [
    {
     "name": "stdout",
     "output_type": "stream",
     "text": [
      "[[ 0.77666369  0.46359653 -0.6561527   0.75917823  0.27070037 -0.53697802]\n",
      " [ 0.25539254  0.03410407  0.2692803   0.71570493  0.60123048 -0.54935863]\n",
      " [ 0.55540833 -0.79821711 -0.61198005  0.00796589  0.41784282 -0.35642793]\n",
      " [-0.98544924 -0.30436689 -0.40493722 -0.37084496  0.02559035 -0.81216201]\n",
      " [ 0.64256007  0.81701142  0.88785749 -0.69619054  0.57301609  0.32099342]]\n",
      "\n",
      "[[ 1.  0.  0.  0.  0.  0.]\n",
      " [-2.  1.  0.  0.  0.  0.]\n",
      " [ 0.  0.  1.  0.  0.  0.]\n",
      " [ 0.  0. -2.  1.  0.  0.]\n",
      " [ 0.  0.  0.  0.  1.  0.]\n",
      " [ 0.  0.  0.  0. -2.  1.]]\n",
      "\n",
      "[[-0.15052937  0.46359653 -2.17450916  0.75917823  1.34465642 -0.53697802]\n",
      " [ 0.1871844   0.03410407 -1.16212957  0.71570493  1.69994774 -0.54935863]\n",
      " [ 2.15184255 -0.79821711 -0.62791182  0.00796589  1.13069868 -0.35642793]\n",
      " [-0.37671546 -0.30436689  0.33675269 -0.37084496  1.64991436 -0.81216201]\n",
      " [-0.99146277  0.81701142  2.28023858 -0.69619054 -0.06897075  0.32099342]]\n"
     ]
    }
   ],
   "source": [
    "r5x6 = np.random.uniform(-1, 1, size = (5,6))\n",
    "print(r5x6, end = '\\n\\n')\n",
    "mult = np.identity(6)\n",
    "mult[1, 0] = mult[3, 2] = mult[5, 4] = -2\n",
    "print(mult, end = '\\n\\n')\n",
    "print(r5x6.dot(mult))"
   ]
  },
  {
   "cell_type": "markdown",
   "id": "bce8b8c4",
   "metadata": {},
   "source": [
    "Les valeurs d'un tableau peuvent être écrites ou sauvegardées dans un fichier (avec un commentaire éventuel en en-tête) via ```numpy.savetxt()``` (et relues par ```numpy.loadtxt()```. Ce sera utile pour sauvegarder des signaux échantillonnés et les faire traiter par un programme externe."
   ]
  },
  {
   "cell_type": "code",
   "execution_count": 197,
   "id": "9978f756",
   "metadata": {},
   "outputs": [
    {
     "name": "stdout",
     "output_type": "stream",
     "text": [
      "# Matrice qui soustrait le double d'une colonne sur deux\n",
      "1.0;0.0;0.0;0.0;0.0;0.0\n",
      "-2.0;1.0;0.0;0.0;0.0;0.0\n",
      "0.0;0.0;1.0;0.0;0.0;0.0\n",
      "0.0;0.0;-2.0;1.0;0.0;0.0\n",
      "0.0;0.0;0.0;0.0;1.0;0.0\n",
      "0.0;0.0;0.0;0.0;-2.0;1.0\n"
     ]
    }
   ],
   "source": [
    "np.savetxt(sys.stdout,      # stdout est un fichier qui affiche à l'écran\n",
    "           mult,            # Tableau à afficher\n",
    "           delimiter = \";\", # Séparateur de colonnes (optionnel)\n",
    "           fmt = \"%.1f\",    # Formatage des nombres (optionnel)\n",
    "           header = \"Matrice qui soustrait le double d'une colonne sur deux\")"
   ]
  }
 ],
 "metadata": {
  "kernelspec": {
   "display_name": "Python 3 (ipykernel)",
   "language": "python",
   "name": "python3"
  },
  "language_info": {
   "codemirror_mode": {
    "name": "ipython",
    "version": 3
   },
   "file_extension": ".py",
   "mimetype": "text/x-python",
   "name": "python",
   "nbconvert_exporter": "python",
   "pygments_lexer": "ipython3",
   "version": "3.9.6"
  }
 },
 "nbformat": 4,
 "nbformat_minor": 5
}
